{
 "cells": [
  {
   "cell_type": "code",
   "execution_count": 1,
   "metadata": {},
   "outputs": [
    {
     "name": "stderr",
     "output_type": "stream",
     "text": [
      "Using TensorFlow backend.\n"
     ]
    }
   ],
   "source": [
    "import pandas as pd\n",
    "import tensorflow as tf\n",
    "import numpy as np\n",
    "import matplotlib.pyplot as plt\n",
    "from keras.models import Sequential\n",
    "from keras.layers import LSTM, TimeDistributed, Dense, Dropout, Activation\n",
    "from keras.optimizers import Adam"
   ]
  },
  {
   "cell_type": "code",
   "execution_count": 2,
   "metadata": {
    "collapsed": true
   },
   "outputs": [],
   "source": [
    "TB=0\n",
    "TE=3343\n",
    "INPUT_SIZE=10\n",
    "OUTPUT_SIZE=1\n",
    "BATCH_SIZE=1\n",
    "TIME_STEPS=1\n",
    "CELL_SIZE=10\n",
    "HIDD=100"
   ]
  },
  {
   "cell_type": "code",
   "execution_count": 3,
   "metadata": {
    "collapsed": true
   },
   "outputs": [],
   "source": [
    "f=open('test_5.csv') \n",
    "df=pd.read_csv(f)     \n",
    "data=df.iloc[:,2:13].values"
   ]
  },
  {
   "cell_type": "code",
   "execution_count": 4,
   "metadata": {
    "collapsed": true,
    "scrolled": true
   },
   "outputs": [],
   "source": [
    "def get_train_data(train_begin=TB,train_end=TE):\n",
    "    global train_mean, train_std\n",
    "    data_train=data[train_begin:train_end]\n",
    "    train_mean=np.mean(data_train,axis=0)\n",
    "    train_std=np.std(data_train,axis=0)\n",
    "    normalized_train_data=(data_train-train_mean)/train_std\n",
    "    train_x = normalized_train_data[:,:10]\n",
    "    train_y = normalized_train_data[:,10,np.newaxis]\n",
    "    return train_x[:, np.newaxis], train_y[:,:]\n",
    "train_x, train_y=get_train_data()"
   ]
  },
  {
   "cell_type": "code",
   "execution_count": 5,
   "metadata": {
    "collapsed": true
   },
   "outputs": [],
   "source": [
    "def get_test_data(test_begin=TE):\n",
    "    global test_mean, test_std\n",
    "    data_test=data[test_begin:]\n",
    "    test_mean=np.mean(data_test,axis=0)\n",
    "    test_std=np.std(data_test,axis=0)\n",
    "    test_data=(data_test-test_mean)/test_std\n",
    "    test_x=test_data[:,:10]\n",
    "    test_y=test_data[:,10,np.newaxis]\n",
    "    return test_x[:, np.newaxis], test_y[:, np.newaxis]\n",
    "test_x, test_y=get_test_data()"
   ]
  },
  {
   "cell_type": "code",
   "execution_count": 6,
   "metadata": {
    "scrolled": false
   },
   "outputs": [
    {
     "name": "stderr",
     "output_type": "stream",
     "text": [
      "C:\\Users\\Administrator\\Anaconda3\\envs\\tensorflow-gpu\\lib\\site-packages\\ipykernel_launcher.py:3: UserWarning: Update your `LSTM` call to the Keras 2 API: `LSTM(units=10, return_sequences=True, batch_input_shape=(1, 1, 10), stateful=True)`\n",
      "  This is separate from the ipykernel package so we can avoid doing imports until\n",
      "C:\\Users\\Administrator\\Anaconda3\\envs\\tensorflow-gpu\\lib\\site-packages\\ipykernel_launcher.py:7: UserWarning: Update your `LSTM` call to the Keras 2 API: `LSTM(units=10, batch_input_shape=(1, 1, 10), stateful=True)`\n",
      "  import sys\n"
     ]
    }
   ],
   "source": [
    "model = Sequential()\n",
    "\n",
    "model.add(LSTM(batch_input_shape=(BATCH_SIZE, TIME_STEPS, INPUT_SIZE), output_dim=CELL_SIZE, return_sequences=True, stateful=True))\n",
    "\n",
    "model.add(Dropout(0.2))\n",
    "\n",
    "model.add(LSTM(batch_input_shape=(BATCH_SIZE, TIME_STEPS, INPUT_SIZE), output_dim=CELL_SIZE, stateful=True))\n",
    "\n",
    "model.add(Dropout(0.2))\n",
    "\n",
    "model.add(Dense(1))\n",
    "model.add(Activation('linear'))\n",
    "#model.compile(optimizer='rmsprop', loss='mse')\n",
    "model.compile(optimizer='adam', loss='mse')"
   ]
  },
  {
   "cell_type": "code",
   "execution_count": 18,
   "metadata": {
    "scrolled": true
   },
   "outputs": [
    {
     "name": "stdout",
     "output_type": "stream",
     "text": [
      "Epoch 1/101\n",
      "11s - loss: 0.0831\n",
      "Epoch 2/101\n",
      "11s - loss: 0.0805\n",
      "Epoch 3/101\n",
      "11s - loss: 0.0869\n",
      "Epoch 4/101\n",
      "10s - loss: 0.0817\n",
      "Epoch 5/101\n",
      "10s - loss: 0.0786\n",
      "Epoch 6/101\n",
      "10s - loss: 0.0735\n",
      "Epoch 7/101\n",
      "10s - loss: 0.0763\n",
      "Epoch 8/101\n",
      "10s - loss: 0.0785\n",
      "Epoch 9/101\n",
      "10s - loss: 0.0924\n",
      "Epoch 10/101\n",
      "10s - loss: 0.0788\n",
      "Epoch 11/101\n",
      "11s - loss: 0.0807\n",
      "Epoch 12/101\n",
      "11s - loss: 0.0861\n",
      "Epoch 13/101\n",
      "11s - loss: 0.0792\n",
      "Epoch 14/101\n",
      "11s - loss: 0.0795\n",
      "Epoch 15/101\n",
      "11s - loss: 0.0764\n",
      "Epoch 16/101\n",
      "11s - loss: 0.0820\n",
      "Epoch 17/101\n",
      "11s - loss: 0.0809\n",
      "Epoch 18/101\n",
      "11s - loss: 0.0867\n",
      "Epoch 19/101\n",
      "11s - loss: 0.0738\n",
      "Epoch 20/101\n",
      "10s - loss: 0.0758\n",
      "Epoch 21/101\n",
      "10s - loss: 0.0857\n",
      "Epoch 22/101\n",
      "10s - loss: 0.0808\n",
      "Epoch 23/101\n",
      "10s - loss: 0.0779\n",
      "Epoch 24/101\n",
      "10s - loss: 0.0872\n",
      "Epoch 25/101\n",
      "10s - loss: 0.0762\n",
      "Epoch 26/101\n",
      "10s - loss: 0.0647\n",
      "Epoch 27/101\n",
      "10s - loss: 0.0766\n",
      "Epoch 28/101\n",
      "11s - loss: 0.0964\n",
      "Epoch 29/101\n",
      "11s - loss: 0.0874\n",
      "Epoch 30/101\n",
      "11s - loss: 0.0861\n",
      "Epoch 31/101\n",
      "11s - loss: 0.0740\n",
      "Epoch 32/101\n",
      "11s - loss: 0.0809\n",
      "Epoch 33/101\n",
      "11s - loss: 0.0757\n",
      "Epoch 34/101\n",
      "10s - loss: 0.0748\n",
      "Epoch 35/101\n",
      "11s - loss: 0.0810\n",
      "Epoch 36/101\n",
      "11s - loss: 0.0782\n",
      "Epoch 37/101\n",
      "10s - loss: 0.0750\n",
      "Epoch 38/101\n",
      "10s - loss: 0.0772\n",
      "Epoch 39/101\n",
      "10s - loss: 0.0734\n",
      "Epoch 40/101\n",
      "10s - loss: 0.0887\n",
      "Epoch 41/101\n",
      "10s - loss: 0.0776\n",
      "Epoch 42/101\n",
      "10s - loss: 0.0725\n",
      "Epoch 43/101\n",
      "10s - loss: 0.0783\n",
      "Epoch 44/101\n",
      "11s - loss: 0.0811\n",
      "Epoch 45/101\n",
      "11s - loss: 0.0698\n",
      "Epoch 46/101\n",
      "11s - loss: 0.0757\n",
      "Epoch 47/101\n",
      "11s - loss: 0.0899\n",
      "Epoch 48/101\n",
      "11s - loss: 0.0859\n",
      "Epoch 49/101\n",
      "11s - loss: 0.0871\n",
      "Epoch 50/101\n",
      "11s - loss: 0.0824\n",
      "Epoch 51/101\n",
      "11s - loss: 0.0942\n",
      "Epoch 52/101\n",
      "11s - loss: 0.0771\n",
      "Epoch 53/101\n",
      "10s - loss: 0.0828\n",
      "Epoch 54/101\n",
      "10s - loss: 0.0836\n",
      "Epoch 55/101\n",
      "10s - loss: 0.0895\n",
      "Epoch 56/101\n",
      "10s - loss: 0.0758\n",
      "Epoch 57/101\n",
      "10s - loss: 0.0785\n",
      "Epoch 58/101\n",
      "10s - loss: 0.0776\n",
      "Epoch 59/101\n",
      "10s - loss: 0.0840\n",
      "Epoch 60/101\n",
      "10s - loss: 0.0793\n",
      "Epoch 61/101\n",
      "11s - loss: 0.0721\n",
      "Epoch 62/101\n",
      "11s - loss: 0.0678\n",
      "Epoch 63/101\n",
      "11s - loss: 0.0818\n",
      "Epoch 64/101\n",
      "11s - loss: 0.0775\n",
      "Epoch 65/101\n",
      "11s - loss: 0.0698\n",
      "Epoch 66/101\n",
      "11s - loss: 0.0771\n",
      "Epoch 67/101\n",
      "11s - loss: 0.0867\n",
      "Epoch 68/101\n",
      "11s - loss: 0.0831\n",
      "Epoch 69/101\n",
      "11s - loss: 0.0901\n",
      "Epoch 70/101\n",
      "10s - loss: 0.0806\n",
      "Epoch 71/101\n",
      "10s - loss: 0.0879\n",
      "Epoch 72/101\n",
      "10s - loss: 0.0901\n",
      "Epoch 73/101\n",
      "10s - loss: 0.0739\n",
      "Epoch 74/101\n",
      "10s - loss: 0.0888\n",
      "Epoch 75/101\n",
      "10s - loss: 0.0693\n",
      "Epoch 76/101\n",
      "10s - loss: 0.0816\n",
      "Epoch 77/101\n",
      "10s - loss: 0.0861\n",
      "Epoch 78/101\n",
      "11s - loss: 0.0795\n",
      "Epoch 79/101\n",
      "11s - loss: 0.0831\n",
      "Epoch 80/101\n",
      "11s - loss: 0.0826\n",
      "Epoch 81/101\n",
      "11s - loss: 0.0772\n",
      "Epoch 82/101\n",
      "11s - loss: 0.0774\n",
      "Epoch 83/101\n",
      "11s - loss: 0.0853\n",
      "Epoch 84/101\n",
      "11s - loss: 0.0833\n",
      "Epoch 85/101\n",
      "11s - loss: 0.0809\n",
      "Epoch 86/101\n",
      "11s - loss: 0.0786\n",
      "Epoch 87/101\n",
      "10s - loss: 0.0791\n",
      "Epoch 88/101\n",
      "10s - loss: 0.0812\n",
      "Epoch 89/101\n",
      "10s - loss: 0.0835\n",
      "Epoch 90/101\n",
      "10s - loss: 0.0663\n",
      "Epoch 91/101\n",
      "10s - loss: 0.0924\n",
      "Epoch 92/101\n",
      "10s - loss: 0.0854\n",
      "Epoch 93/101\n",
      "10s - loss: 0.0900\n",
      "Epoch 94/101\n",
      "10s - loss: 0.0787\n",
      "Epoch 95/101\n",
      "11s - loss: 0.0900\n",
      "Epoch 96/101\n",
      "11s - loss: 0.0767\n",
      "Epoch 97/101\n",
      "11s - loss: 0.0863\n",
      "Epoch 98/101\n",
      "11s - loss: 0.0849\n",
      "Epoch 99/101\n",
      "11s - loss: 0.0887\n",
      "Epoch 100/101\n",
      "11s - loss: 0.0813\n",
      "Epoch 101/101\n",
      "11s - loss: 0.0846\n"
     ]
    }
   ],
   "source": [
    "train_history=model.fit(train_x, train_y, batch_size=BATCH_SIZE, epochs=101, verbose=2)"
   ]
  },
  {
   "cell_type": "code",
   "execution_count": 48,
   "metadata": {
    "scrolled": true
   },
   "outputs": [
    {
     "name": "stdout",
     "output_type": "stream",
     "text": [
      "3332/3337 [============================>.] - ETA: 0s0.0239708301092\n"
     ]
    }
   ],
   "source": [
    "trainScore = model.evaluate(train_x, train_y, batch_size=BATCH_SIZE, verbose=1)\n",
    "print(trainScore)"
   ]
  },
  {
   "cell_type": "code",
   "execution_count": 19,
   "metadata": {
    "scrolled": true
   },
   "outputs": [
    {
     "name": "stdout",
     "output_type": "stream",
     "text": [
      " 89/100 [=========================>....] - ETA: 0s[[-1.65992212]\n",
      " [-1.94069791]\n",
      " [-1.97397637]\n",
      " [-2.04539013]\n",
      " [-1.97653437]\n",
      " [-1.84139466]\n",
      " [-1.86042976]\n",
      " [-1.52886176]\n",
      " [-1.45167136]\n",
      " [-1.57263637]\n",
      " [-1.66534305]\n",
      " [-1.370996  ]\n",
      " [-1.36135411]\n",
      " [-1.23083615]\n",
      " [-1.22776103]\n",
      " [-1.20718956]\n",
      " [-1.15272284]\n",
      " [-1.17085433]\n",
      " [-1.33548141]\n",
      " [-1.39210987]\n",
      " [-1.3949964 ]\n",
      " [-1.68458486]\n",
      " [-1.25674415]\n",
      " [-1.05772161]\n",
      " [-0.72406048]\n",
      " [-0.73077983]\n",
      " [-0.63331705]\n",
      " [-0.64450288]\n",
      " [ 0.08105984]\n",
      " [ 0.20847303]\n",
      " [-0.27812856]\n",
      " [-0.19841486]\n",
      " [-0.4211973 ]\n",
      " [-0.33208215]\n",
      " [-0.44630563]\n",
      " [-0.27842551]\n",
      " [-0.32354641]\n",
      " [-0.52921093]\n",
      " [-0.3886829 ]\n",
      " [ 0.26689932]\n",
      " [ 0.35468259]\n",
      " [ 0.90310454]\n",
      " [ 0.8106997 ]\n",
      " [ 0.94512254]\n",
      " [ 0.92521924]\n",
      " [ 0.97072703]\n",
      " [ 1.07865405]\n",
      " [ 0.91790873]\n",
      " [ 0.88294613]\n",
      " [ 0.99270302]\n",
      " [ 0.98771864]\n",
      " [ 1.06396294]\n",
      " [ 0.8904857 ]\n",
      " [ 0.47914207]\n",
      " [ 0.78307295]\n",
      " [ 0.90911114]\n",
      " [ 0.83049899]\n",
      " [ 0.95053095]\n",
      " [ 1.04043818]\n",
      " [ 1.12284112]\n",
      " [ 0.92551017]\n",
      " [ 0.72093713]\n",
      " [ 0.4519406 ]\n",
      " [ 0.09088258]\n",
      " [ 0.46543199]\n",
      " [ 0.25833941]\n",
      " [ 0.50890642]\n",
      " [ 0.33011401]\n",
      " [ 0.30395612]\n",
      " [ 0.63436913]\n",
      " [ 0.77075064]\n",
      " [ 0.88776463]\n",
      " [ 1.01535177]\n",
      " [ 1.00472748]\n",
      " [ 0.93162441]\n",
      " [ 1.04014301]\n",
      " [ 1.14203072]\n",
      " [ 1.10155463]\n",
      " [ 1.10921872]\n",
      " [ 1.11561942]\n",
      " [ 1.03137708]\n",
      " [ 1.03492975]\n",
      " [ 1.05285716]\n",
      " [ 1.16053462]\n",
      " [ 1.15246856]\n",
      " [ 1.03437555]\n",
      " [ 0.9808588 ]\n",
      " [ 1.00262439]\n",
      " [ 1.16789818]\n",
      " [ 1.1650219 ]\n",
      " [ 0.87704581]\n",
      " [ 1.0186373 ]\n",
      " [ 0.74198627]\n",
      " [ 0.47662801]\n",
      " [-0.33206773]\n",
      " [-0.23081642]\n",
      " [-0.32313478]\n",
      " [-0.27356923]\n",
      " [ 0.44443649]\n",
      " [ 0.45232788]]\n"
     ]
    }
   ],
   "source": [
    "predict=model.predict(test_x, batch_size=BATCH_SIZE,verbose=1)\n",
    "print(predict)"
   ]
  },
  {
   "cell_type": "code",
   "execution_count": 20,
   "metadata": {
    "collapsed": true
   },
   "outputs": [],
   "source": [
    "predict.reshape(-1)\n",
    "test_predict=np.array(predict)*test_std[3]+test_mean[3]\n",
    "test_y_=np.array(test_y)*test_std[10]+test_mean[10]"
   ]
  },
  {
   "cell_type": "code",
   "execution_count": 21,
   "metadata": {
    "scrolled": false
   },
   "outputs": [
    {
     "data": {
      "image/png": "[encoded data removed]",
      "text/plain": [
       "<matplotlib.figure.Figure at 0x193d292d0f0>"
      ]
     },
     "metadata": {},
     "output_type": "display_data"
    }
   ],
   "source": [
    "plt.figure()\n",
    "plt.plot(list(range(len(test_predict))), test_predict, color='b')\n",
    "plt.plot(list(range(len(test_y_))), test_y_.reshape(-1), color='r')\n",
    "plt.show()"
   ]
  },
  {
   "cell_type": "code",
   "execution_count": 17,
   "metadata": {
    "scrolled": false
   },
   "outputs": [
    {
     "name": "stdout",
     "output_type": "stream",
     "text": [
      "[[ 0.05231476]]\n",
      "[[ 0.67786102]]\n",
      "[[ 1.17282867]]\n",
      "[[ 0.75412598]]\n",
      "[[ 0.06105194]]\n",
      "[[ 0.54308929]]\n",
      "[[ 0.30644073]]\n",
      "[[ 0.04204559]]\n",
      "[[ 0.11820984]]\n",
      "[[ 0.61958923]]\n",
      "[[ 0.32018738]]\n",
      "[[ 1.12060394]]\n",
      "[[ 0.7370163]]\n",
      "[[ 0.74971008]]\n",
      "[[ 0.43715668]]\n",
      "[[ 1.02730865]]\n",
      "[[ 0.70863495]]\n",
      "[[ 0.50575562]]\n",
      "[[ 1.15202179]]\n",
      "[[ 0.06250763]]\n",
      "[[ 0.00225525]]\n",
      "[[ 0.11681366]]\n",
      "[[ 0.23916168]]\n",
      "[[ 0.56022034]]\n",
      "[[ 0.09200134]]\n",
      "[[ 0.06604614]]\n",
      "[[ 0.06783752]]\n",
      "[[ 0.10440369]]\n",
      "[[ 0.14983368]]\n",
      "[[ 0.28805695]]\n",
      "[[ 0.13801422]]\n",
      "[[ 0.09798584]]\n",
      "[[ 0.2665802]]\n",
      "[[ 0.17801208]]\n",
      "[[ 0.2326355]]\n",
      "[[ 0.46802063]]\n",
      "[[ 0.4557724]]\n",
      "[[ 0.16327515]]\n",
      "[[ 0.06201477]]\n",
      "[[ 0.61242828]]\n",
      "[[ 0.12695007]]\n",
      "[[ 0.39246216]]\n",
      "[[ 0.96081085]]\n",
      "[[ 0.16124268]]\n",
      "[[ 0.60843506]]\n",
      "[[ 0.33974915]]\n",
      "[[ 0.35430756]]\n",
      "[[ 0.84512634]]\n",
      "[[ 0.63658295]]\n",
      "[[ 0.25770264]]\n",
      "======================\n",
      "[[ 0.40426398]]\n"
     ]
    }
   ],
   "source": [
    "x=0\n",
    "for i in range(50,len(test_predict),1):\n",
    "    print(abs(test_predict[i]-test_y_[i]))\n",
    "    x += abs(test_predict[i]-test_y_[i])\n",
    "print(\"======================\")\n",
    "print(x/50)"
   ]
  },
  {
   "cell_type": "code",
   "execution_count": 195,
   "metadata": {
    "collapsed": true
   },
   "outputs": [],
   "source": [
    "np.savetxt('Output_test_predict.csv', test_predict, delimiter=\",\")\n",
    "np.savetxt('Output_test_Y.csv', test_y_, delimiter=\",\")"
   ]
  },
  {
   "cell_type": "code",
   "execution_count": null,
   "metadata": {
    "collapsed": true
   },
   "outputs": [],
   "source": []
  }
 ],
 "metadata": {
  "kernelspec": {
   "display_name": "Python 3",
   "language": "python",
   "name": "python3"
  },
  "language_info": {
   "codemirror_mode": {
    "name": "ipython",
    "version": 3
   },
   "file_extension": ".py",
   "mimetype": "text/x-python",
   "name": "python",
   "nbconvert_exporter": "python",
   "pygments_lexer": "ipython3",
   "version": "3.5.3"
  }
 },
 "nbformat": 4,
 "nbformat_minor": 2
}
