{
 "cells": [
  {
   "cell_type": "code",
   "execution_count": 1,
   "metadata": {},
   "outputs": [
    {
     "name": "stderr",
     "output_type": "stream",
     "text": [
      "Using TensorFlow backend.\n"
     ]
    }
   ],
   "source": [
    "import pandas as pd\n",
    "import tensorflow as tf\n",
    "import numpy as np\n",
    "import matplotlib.pyplot as plt\n",
    "from keras.models import Sequential\n",
    "from keras.layers import LSTM, TimeDistributed, Dense, Dropout, Activation\n",
    "from keras.optimizers import Adam"
   ]
  },
  {
   "cell_type": "code",
   "execution_count": 2,
   "metadata": {
    "collapsed": true
   },
   "outputs": [],
   "source": [
    "TB=0\n",
    "TE=3355\n",
    "INPUT_SIZE=9\n",
    "OUTPUT_SIZE=1\n",
    "BATCH_SIZE=1\n",
    "TIME_STEPS=1\n",
    "CELL_SIZE=10\n",
    "HIDD=100"
   ]
  },
  {
   "cell_type": "code",
   "execution_count": 3,
   "metadata": {
    "collapsed": true
   },
   "outputs": [],
   "source": [
    "f=open('test_7.csv') \n",
    "df=pd.read_csv(f)     \n",
    "data=df.iloc[:,2:12].values"
   ]
  },
  {
   "cell_type": "code",
   "execution_count": 4,
   "metadata": {
    "collapsed": true,
    "scrolled": true
   },
   "outputs": [],
   "source": [
    "def get_train_data(train_begin=TB,train_end=TE):\n",
    "    global train_mean, train_std\n",
    "    data_train=data[train_begin:train_end]\n",
    "    train_mean=np.mean(data_train,axis=0)\n",
    "    train_std=np.std(data_train,axis=0)\n",
    "    normalized_train_data=(data_train-train_mean)/train_std\n",
    "    train_x = normalized_train_data[:,:INPUT_SIZE]\n",
    "    train_y = normalized_train_data[:,9,np.newaxis]\n",
    "    return train_x[:, np.newaxis], train_y[:,:]\n",
    "train_x, train_y=get_train_data()"
   ]
  },
  {
   "cell_type": "code",
   "execution_count": 5,
   "metadata": {
    "collapsed": true
   },
   "outputs": [],
   "source": [
    "def get_test_data(test_begin=TE):\n",
    "    global test_mean, test_std\n",
    "    data_test=data[test_begin:]\n",
    "    test_mean=np.mean(data_test,axis=0)\n",
    "    test_std=np.std(data_test,axis=0)\n",
    "    test_data=(data_test-test_mean)/test_std\n",
    "    test_x=test_data[:,:INPUT_SIZE]\n",
    "    test_y=test_data[:,9,np.newaxis]\n",
    "    return test_x[:, np.newaxis], test_y[:, np.newaxis]\n",
    "test_x, test_y=get_test_data()"
   ]
  },
  {
   "cell_type": "code",
   "execution_count": 6,
   "metadata": {},
   "outputs": [
    {
     "name": "stderr",
     "output_type": "stream",
     "text": [
      "C:\\Users\\Administrator\\Anaconda3\\envs\\tensorflow-gpu\\lib\\site-packages\\ipykernel_launcher.py:3: UserWarning: Update your `LSTM` call to the Keras 2 API: `LSTM(return_sequences=True, batch_input_shape=(1, 1, 9), units=500)`\n",
      "  This is separate from the ipykernel package so we can avoid doing imports until\n",
      "C:\\Users\\Administrator\\Anaconda3\\envs\\tensorflow-gpu\\lib\\site-packages\\ipykernel_launcher.py:7: UserWarning: Update your `LSTM` call to the Keras 2 API: `LSTM(return_sequences=True, batch_input_shape=(1, 1, 9), units=500)`\n",
      "  import sys\n",
      "C:\\Users\\Administrator\\Anaconda3\\envs\\tensorflow-gpu\\lib\\site-packages\\ipykernel_launcher.py:11: UserWarning: Update your `LSTM` call to the Keras 2 API: `LSTM(return_sequences=True, batch_input_shape=(1, 1, 9), units=500)`\n",
      "  # This is added back by InteractiveShellApp.init_path()\n",
      "C:\\Users\\Administrator\\Anaconda3\\envs\\tensorflow-gpu\\lib\\site-packages\\ipykernel_launcher.py:15: UserWarning: Update your `LSTM` call to the Keras 2 API: `LSTM(return_sequences=True, batch_input_shape=(1, 1, 9), units=500)`\n",
      "  from ipykernel import kernelapp as app\n",
      "C:\\Users\\Administrator\\Anaconda3\\envs\\tensorflow-gpu\\lib\\site-packages\\ipykernel_launcher.py:19: UserWarning: Update your `LSTM` call to the Keras 2 API: `LSTM(return_sequences=True, batch_input_shape=(1, 1, 9), units=500)`\n",
      "C:\\Users\\Administrator\\Anaconda3\\envs\\tensorflow-gpu\\lib\\site-packages\\ipykernel_launcher.py:23: UserWarning: Update your `LSTM` call to the Keras 2 API: `LSTM(return_sequences=True, batch_input_shape=(1, 1, 9), units=500)`\n",
      "C:\\Users\\Administrator\\Anaconda3\\envs\\tensorflow-gpu\\lib\\site-packages\\ipykernel_launcher.py:27: UserWarning: Update your `LSTM` call to the Keras 2 API: `LSTM(batch_input_shape=(1, 1, 9), units=500)`\n"
     ]
    }
   ],
   "source": [
    "model = Sequential()\n",
    "\n",
    "model.add(LSTM(batch_input_shape=(BATCH_SIZE, TIME_STEPS, INPUT_SIZE), output_dim=500, return_sequences=True))\n",
    "\n",
    "model.add(Dropout(0.2))\n",
    "\n",
    "model.add(LSTM(batch_input_shape=(BATCH_SIZE, TIME_STEPS, INPUT_SIZE), output_dim=500, return_sequences=True))\n",
    "\n",
    "model.add(Dropout(0.2))\n",
    "\n",
    "model.add(LSTM(batch_input_shape=(BATCH_SIZE, TIME_STEPS, INPUT_SIZE), output_dim=500, return_sequences=True))\n",
    "\n",
    "model.add(Dropout(0.2))\n",
    "\n",
    "model.add(LSTM(batch_input_shape=(BATCH_SIZE, TIME_STEPS, INPUT_SIZE), output_dim=500, return_sequences=True))\n",
    "\n",
    "model.add(Dropout(0.2))\n",
    "\n",
    "model.add(LSTM(batch_input_shape=(BATCH_SIZE, TIME_STEPS, INPUT_SIZE), output_dim=500, return_sequences=True))\n",
    "\n",
    "model.add(Dropout(0.2))\n",
    "\n",
    "model.add(LSTM(batch_input_shape=(BATCH_SIZE, TIME_STEPS, INPUT_SIZE), output_dim=500, return_sequences=True))\n",
    "\n",
    "model.add(Dropout(0.2))\n",
    "\n",
    "model.add(LSTM(batch_input_shape=(BATCH_SIZE, TIME_STEPS, INPUT_SIZE), output_dim=500))\n",
    "\n",
    "model.add(Dropout(0.2))\n",
    "\n",
    "model.add(Dense(1)) \n",
    "model.add(Activation('linear'))\n",
    "#model.compile(optimizer='rmsprop', loss='mse') \n",
    "model.compile(optimizer='adam', loss='mse')"
   ]
  },
  {
   "cell_type": "code",
   "execution_count": 7,
   "metadata": {
    "scrolled": true
   },
   "outputs": [
    {
     "name": "stdout",
     "output_type": "stream",
     "text": [
      "Epoch 1/5\n",
      "1976s - loss: 0.0735\n",
      "Epoch 2/5\n",
      "1962s - loss: 0.0441\n",
      "Epoch 3/5\n",
      "1958s - loss: 0.0357\n",
      "Epoch 4/5\n",
      "1960s - loss: 0.0495\n",
      "Epoch 5/5\n",
      "1961s - loss: 0.0358\n"
     ]
    }
   ],
   "source": [
    "train_history=model.fit(train_x, train_y, batch_size=BATCH_SIZE, epochs=5, verbose=2)\n",
    "#."
   ]
  },
  {
   "cell_type": "code",
   "execution_count": 8,
   "metadata": {
    "scrolled": true
   },
   "outputs": [
    {
     "name": "stdout",
     "output_type": "stream",
     "text": [
      "3355/3355 [==============================] - 62s    \n",
      "0.0134823626435\n"
     ]
    }
   ],
   "source": [
    "trainScore = model.evaluate(train_x, train_y, batch_size=BATCH_SIZE, verbose=1)\n",
    "print(trainScore)"
   ]
  },
  {
   "cell_type": "code",
   "execution_count": 8,
   "metadata": {
    "scrolled": true
   },
   "outputs": [
    {
     "name": "stdout",
     "output_type": "stream",
     "text": [
      "100/100 [==============================] - 2s     \n",
      "[[-2.18518567]\n",
      " [-1.77455986]\n",
      " [-1.74187589]\n",
      " [-1.72143137]\n",
      " [-1.60234988]\n",
      " [-1.62547433]\n",
      " [-2.35714793]\n",
      " [-2.3347168 ]\n",
      " [-2.38915658]\n",
      " [-2.42519188]\n",
      " [-2.03169465]\n",
      " [-1.4843688 ]\n",
      " [-1.17024827]\n",
      " [-1.04294574]\n",
      " [-0.96047109]\n",
      " [-0.90987158]\n",
      " [-0.61976653]\n",
      " [-0.16163699]\n",
      " [-0.47486332]\n",
      " [-0.38915169]\n",
      " [-0.69369489]\n",
      " [-0.58312482]\n",
      " [-0.66210002]\n",
      " [-0.62086338]\n",
      " [-0.54050189]\n",
      " [-0.7514264 ]\n",
      " [-0.69229835]\n",
      " [-0.26661861]\n",
      " [-0.011187  ]\n",
      " [ 0.37813115]\n",
      " [ 0.34276679]\n",
      " [ 0.56715596]\n",
      " [ 0.50813782]\n",
      " [ 0.72437215]\n",
      " [ 0.83284503]\n",
      " [ 0.55719769]\n",
      " [ 0.45135292]\n",
      " [ 0.61421043]\n",
      " [ 0.61496645]\n",
      " [ 0.80819505]\n",
      " [ 0.47824559]\n",
      " [-0.02936076]\n",
      " [ 0.320905  ]\n",
      " [ 0.56663364]\n",
      " [ 0.36461389]\n",
      " [ 0.53399581]\n",
      " [ 0.835922  ]\n",
      " [ 0.93399161]\n",
      " [ 0.57236296]\n",
      " [ 0.33690372]\n",
      " [-0.1723119 ]\n",
      " [-0.14204979]\n",
      " [-0.12202765]\n",
      " [-0.28518298]\n",
      " [-0.02320788]\n",
      " [-0.26583245]\n",
      " [-0.25282365]\n",
      " [ 0.10732342]\n",
      " [ 0.26095918]\n",
      " [ 0.50830722]\n",
      " [ 0.75805068]\n",
      " [ 0.74882829]\n",
      " [ 0.53899413]\n",
      " [ 0.82828248]\n",
      " [ 0.9684819 ]\n",
      " [ 0.93406707]\n",
      " [ 0.90595132]\n",
      " [ 0.92172968]\n",
      " [ 0.77618873]\n",
      " [ 0.72435671]\n",
      " [ 0.78897762]\n",
      " [ 0.93047833]\n",
      " [ 0.93367422]\n",
      " [ 0.74739659]\n",
      " [ 0.61786461]\n",
      " [ 0.6023584 ]\n",
      " [ 0.9802537 ]\n",
      " [ 0.94844258]\n",
      " [ 0.49261037]\n",
      " [ 0.67171657]\n",
      " [ 0.3795574 ]\n",
      " [-0.13666536]\n",
      " [-0.41500676]\n",
      " [-0.42436826]\n",
      " [-0.48348629]\n",
      " [-0.53233433]\n",
      " [-0.27014336]\n",
      " [-0.07816255]\n",
      " [ 0.0138451 ]\n",
      " [ 0.12222259]\n",
      " [ 0.38958871]\n",
      " [ 0.87192076]\n",
      " [ 1.3270725 ]\n",
      " [ 1.36796165]\n",
      " [ 1.5962472 ]\n",
      " [ 1.66827512]\n",
      " [ 1.83231401]\n",
      " [ 1.91377103]\n",
      " [ 1.74749458]\n",
      " [ 1.8318007 ]]\n"
     ]
    }
   ],
   "source": [
    "predict=model.predict(test_x, batch_size=BATCH_SIZE,verbose=1)\n",
    "print(predict)"
   ]
  },
  {
   "cell_type": "code",
   "execution_count": 9,
   "metadata": {
    "collapsed": true
   },
   "outputs": [],
   "source": [
    "predict.reshape(-1)\n",
    "test_predict=np.array(predict)*test_std[3]+test_mean[3]\n",
    "test_y_=np.array(test_y)*test_std[9]+test_mean[9]"
   ]
  },
  {
   "cell_type": "code",
   "execution_count": 11,
   "metadata": {
    "scrolled": false
   },
   "outputs": [
    {
     "data": {
      "image/png": "[encoded data removed]",
      "text/plain": [
       "<matplotlib.figure.Figure at 0x2af008354e0>"
      ]
     },
     "metadata": {},
     "output_type": "display_data"
    }
   ],
   "source": [
    "plt.figure()\n",
    "plt.plot(list(range(len(test_predict))), test_predict, color='b')\n",
    "plt.plot(list(range(len(test_y_))), test_y_.reshape(-1), color='r')\n",
    "plt.show()"
   ]
  },
  {
   "cell_type": "code",
   "execution_count": 12,
   "metadata": {
    "scrolled": false
   },
   "outputs": [
    {
     "name": "stdout",
     "output_type": "stream",
     "text": [
      "[[ 0.21511993]]\n",
      "[[ 0.05924988]]\n",
      "[[ 0.22771454]]\n",
      "[[ 0.52349396]]\n",
      "[[ 0.51015625]]\n",
      "[[ 0.01222687]]\n",
      "[[ 0.6637558]]\n",
      "[[ 0.34886169]]\n",
      "[[ 0.36521606]]\n",
      "[[ 0.10856628]]\n",
      "[[ 0.30250092]]\n",
      "[[ 0.68547974]]\n",
      "[[ 0.20191803]]\n",
      "[[ 0.08216248]]\n",
      "[[ 0.29099731]]\n",
      "[[ 0.37745972]]\n",
      "[[ 0.37555695]]\n",
      "[[ 0.50468597]]\n",
      "[[ 0.28598633]]\n",
      "[[ 0.14029846]]\n",
      "[[ 0.1904007]]\n",
      "[[ 0.3708374]]\n",
      "[[ 0.42673492]]\n",
      "[[ 0.53283234]]\n",
      "[[ 0.34369659]]\n",
      "[[ 0.33493652]]\n",
      "[[ 0.21273346]]\n",
      "[[ 0.80400238]]\n",
      "[[ 0.18755035]]\n",
      "[[ 0.34311523]]\n",
      "[[ 0.8537323]]\n",
      "[[ 0.40069122]]\n",
      "[[ 0.03682098]]\n",
      "[[ 0.11954041]]\n",
      "[[ 0.16040192]]\n",
      "[[ 0.47978516]]\n",
      "[[ 0.39573059]]\n",
      "[[ 0.14129944]]\n",
      "[[ 0.3714386]]\n",
      "[[ 0.2713501]]\n",
      "[[ 0.97774353]]\n",
      "[[ 0.88727112]]\n",
      "[[ 0.10302277]]\n",
      "[[ 0.271492]]\n",
      "[[ 0.05003662]]\n",
      "[[ 0.21705627]]\n",
      "[[ 0.11420746]]\n",
      "[[ 0.38617554]]\n",
      "[[ 0.02080078]]\n",
      "[[ 0.58483887]]\n",
      "======================\n",
      "[[ 0.33743365]]\n"
     ]
    }
   ],
   "source": [
    "x=0\n",
    "for i in range(50,len(test_predict),1):\n",
    "    print(abs(test_predict[i]-test_y_[i]))\n",
    "    x += abs(test_predict[i]-test_y_[i])\n",
    "print(\"======================\")\n",
    "print(x/50)"
   ]
  },
  {
   "cell_type": "code",
   "execution_count": 57,
   "metadata": {
    "collapsed": true
   },
   "outputs": [],
   "source": [
    "np.savetxt('Output_test_predict.csv', test_predict, delimiter=\",\")\n",
    "np.savetxt('Output_test_Y.csv', test_y_, delimiter=\",\")"
   ]
  },
  {
   "cell_type": "code",
   "execution_count": 2,
   "metadata": {},
   "outputs": [
    {
     "ename": "TypeError",
     "evalue": "dense() missing 1 required positional argument: 'units'",
     "output_type": "error",
     "traceback": [
      "\u001b[1;31m---------------------------------------------------------------------------\u001b[0m",
      "\u001b[1;31mTypeError\u001b[0m                                 Traceback (most recent call last)",
      "\u001b[1;32m<ipython-input-2-19f95252b29a>\u001b[0m in \u001b[0;36m<module>\u001b[1;34m()\u001b[0m\n\u001b[1;32m----> 1\u001b[1;33m \u001b[0mtest\u001b[0m\u001b[1;33m=\u001b[0m\u001b[0mtf\u001b[0m\u001b[1;33m.\u001b[0m\u001b[0mlayers\u001b[0m\u001b[1;33m.\u001b[0m\u001b[0mdense\u001b[0m\u001b[1;33m(\u001b[0m\u001b[1;36m100\u001b[0m\u001b[1;33m)\u001b[0m\u001b[1;33m\u001b[0m\u001b[0m\n\u001b[0m",
      "\u001b[1;31mTypeError\u001b[0m: dense() missing 1 required positional argument: 'units'"
     ]
    }
   ],
   "source": []
  }
 ],
 "metadata": {
  "kernelspec": {
   "display_name": "Python 3",
   "language": "python",
   "name": "python3"
  },
  "language_info": {
   "codemirror_mode": {
    "name": "ipython",
    "version": 3
   },
   "file_extension": ".py",
   "mimetype": "text/x-python",
   "name": "python",
   "nbconvert_exporter": "python",
   "pygments_lexer": "ipython3",
   "version": "3.5.3"
  }
 },
 "nbformat": 4,
 "nbformat_minor": 2
}
